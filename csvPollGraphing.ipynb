{
 "cells": [
  {
   "cell_type": "code",
   "execution_count": 1,
   "metadata": {},
   "outputs": [],
   "source": [
    "import matplotlib.pyplot as plt\n",
    "import pandas as pd\n",
    "import numpy as np\n",
    "import requests\n",
    "import os\n",
    "\n",
    "from api_keys import api_key"
   ]
  },
  {
   "cell_type": "code",
   "execution_count": 2,
   "metadata": {},
   "outputs": [
    {
     "data": {
      "text/html": [
       "<div>\n",
       "<style scoped>\n",
       "    .dataframe tbody tr th:only-of-type {\n",
       "        vertical-align: middle;\n",
       "    }\n",
       "\n",
       "    .dataframe tbody tr th {\n",
       "        vertical-align: top;\n",
       "    }\n",
       "\n",
       "    .dataframe thead th {\n",
       "        text-align: right;\n",
       "    }\n",
       "</style>\n",
       "<table border=\"1\" class=\"dataframe\">\n",
       "  <thead>\n",
       "    <tr style=\"text-align: right;\">\n",
       "      <th></th>\n",
       "      <th>Timestamp</th>\n",
       "      <th>Intelligence</th>\n",
       "      <th>Combat</th>\n",
       "      <th>Speed</th>\n",
       "      <th>Durability</th>\n",
       "      <th>Strength</th>\n",
       "      <th>Power (Non-physical)</th>\n",
       "    </tr>\n",
       "  </thead>\n",
       "  <tbody>\n",
       "    <tr>\n",
       "      <th>0</th>\n",
       "      <td>2020/04/13 9:37:21 PM EST</td>\n",
       "      <td>4</td>\n",
       "      <td>5.0</td>\n",
       "      <td>5</td>\n",
       "      <td>4</td>\n",
       "      <td>5</td>\n",
       "      <td>5</td>\n",
       "    </tr>\n",
       "    <tr>\n",
       "      <th>1</th>\n",
       "      <td>2020/04/13 9:37:21 PM EST</td>\n",
       "      <td>5</td>\n",
       "      <td>5.0</td>\n",
       "      <td>5</td>\n",
       "      <td>3</td>\n",
       "      <td>4</td>\n",
       "      <td>5</td>\n",
       "    </tr>\n",
       "    <tr>\n",
       "      <th>2</th>\n",
       "      <td>2020/04/13 9:40:53 PM EST</td>\n",
       "      <td>5</td>\n",
       "      <td>2.0</td>\n",
       "      <td>4</td>\n",
       "      <td>2</td>\n",
       "      <td>2</td>\n",
       "      <td>4</td>\n",
       "    </tr>\n",
       "    <tr>\n",
       "      <th>3</th>\n",
       "      <td>2020/04/13 9:44:04 PM EST</td>\n",
       "      <td>5</td>\n",
       "      <td>4.0</td>\n",
       "      <td>3</td>\n",
       "      <td>5</td>\n",
       "      <td>4</td>\n",
       "      <td>5</td>\n",
       "    </tr>\n",
       "    <tr>\n",
       "      <th>4</th>\n",
       "      <td>2020/04/14 12:25:25 PM EST</td>\n",
       "      <td>4</td>\n",
       "      <td>4.0</td>\n",
       "      <td>5</td>\n",
       "      <td>2</td>\n",
       "      <td>2</td>\n",
       "      <td>1</td>\n",
       "    </tr>\n",
       "    <tr>\n",
       "      <th>5</th>\n",
       "      <td>2020/04/14 1:16:48 PM EST</td>\n",
       "      <td>5</td>\n",
       "      <td>3.0</td>\n",
       "      <td>3</td>\n",
       "      <td>3</td>\n",
       "      <td>4</td>\n",
       "      <td>5</td>\n",
       "    </tr>\n",
       "    <tr>\n",
       "      <th>6</th>\n",
       "      <td>2020/04/14 2:39:13 PM EST</td>\n",
       "      <td>3</td>\n",
       "      <td>1.0</td>\n",
       "      <td>5</td>\n",
       "      <td>5</td>\n",
       "      <td>4</td>\n",
       "      <td>2</td>\n",
       "    </tr>\n",
       "    <tr>\n",
       "      <th>7</th>\n",
       "      <td>2020/04/14 6:03:35 PM EST</td>\n",
       "      <td>4</td>\n",
       "      <td>3.0</td>\n",
       "      <td>1</td>\n",
       "      <td>4</td>\n",
       "      <td>3</td>\n",
       "      <td>3</td>\n",
       "    </tr>\n",
       "    <tr>\n",
       "      <th>8</th>\n",
       "      <td>2020/04/14 8:09:11 PM EST</td>\n",
       "      <td>4</td>\n",
       "      <td>3.0</td>\n",
       "      <td>2</td>\n",
       "      <td>4</td>\n",
       "      <td>4</td>\n",
       "      <td>5</td>\n",
       "    </tr>\n",
       "  </tbody>\n",
       "</table>\n",
       "</div>"
      ],
      "text/plain": [
       "                    Timestamp  Intelligence  Combat  Speed  Durability  \\\n",
       "0   2020/04/13 9:37:21 PM EST             4     5.0      5           4   \n",
       "1   2020/04/13 9:37:21 PM EST             5     5.0      5           3   \n",
       "2   2020/04/13 9:40:53 PM EST             5     2.0      4           2   \n",
       "3   2020/04/13 9:44:04 PM EST             5     4.0      3           5   \n",
       "4  2020/04/14 12:25:25 PM EST             4     4.0      5           2   \n",
       "5   2020/04/14 1:16:48 PM EST             5     3.0      3           3   \n",
       "6   2020/04/14 2:39:13 PM EST             3     1.0      5           5   \n",
       "7   2020/04/14 6:03:35 PM EST             4     3.0      1           4   \n",
       "8   2020/04/14 8:09:11 PM EST             4     3.0      2           4   \n",
       "\n",
       "   Strength  Power (Non-physical)  \n",
       "0         5                     5  \n",
       "1         4                     5  \n",
       "2         2                     4  \n",
       "3         4                     5  \n",
       "4         2                     1  \n",
       "5         4                     5  \n",
       "6         4                     2  \n",
       "7         3                     3  \n",
       "8         4                     5  "
      ]
     },
     "execution_count": 2,
     "metadata": {},
     "output_type": "execute_result"
    }
   ],
   "source": [
    "polling_df  = pd.read_csv(\"classResponse.csv\")\n",
    "\n",
    "polling_df.drop(columns=\"Unnamed: 7\", index=0, inplace=True)\n",
    "polling_df.reset_index(drop=True,inplace=True)\n",
    "polling_df"
   ]
  },
  {
   "cell_type": "code",
   "execution_count": 3,
   "metadata": {},
   "outputs": [],
   "source": [
    "base_url = \"https://www.superheroapi.com/api.php/\"+api_key+\"/\"\n",
    "\n"
   ]
  },
  {
   "cell_type": "code",
   "execution_count": 4,
   "metadata": {},
   "outputs": [],
   "source": [
    "# This is meaningless but cool\n",
    "#polling_df[[\"Intelligence\",\"Combat\",\"Speed\",\"Durability\",\"Strength\",\"Power (Non-physical)\"]].plot(kind=\"bar\")\n",
    "#plt.xlabel(\"Attributes\")\n",
    "#plt.ylabel(\"Score\")"
   ]
  },
  {
   "cell_type": "code",
   "execution_count": 5,
   "metadata": {},
   "outputs": [
    {
     "data": {
      "text/plain": [
       "Text(0.5, 1.0, 'Class Poll')"
      ]
     },
     "execution_count": 5,
     "metadata": {},
     "output_type": "execute_result"
    },
    {
     "data": {
      "image/png": "[encoded data removed]",
      "text/plain": [
       "<Figure size 432x288 with 1 Axes>"
      ]
     },
     "metadata": {
      "needs_background": "light"
     },
     "output_type": "display_data"
    }
   ],
   "source": [
    "polling_df.mean().plot(kind=\"bar\", rot=33)\n",
    "plt.xlabel(\"Attributes\")\n",
    "plt.ylabel(\"Weight\")\n",
    "plt.title(\"Class Poll\")"
   ]
  },
  {
   "cell_type": "code",
   "execution_count": 6,
   "metadata": {},
   "outputs": [
    {
     "name": "stdout",
     "output_type": "stream",
     "text": [
      "{'response': 'success', 'id': '1', 'name': 'A-Bomb', 'powerstats': {'intelligence': '38', 'strength': '100', 'speed': '17', 'durability': '80', 'power': '24', 'combat': '64'}, 'biography': {'full-name': 'Richard Milhouse Jones', 'alter-egos': 'No alter egos found.', 'aliases': ['Rick Jones'], 'place-of-birth': 'Scarsdale, Arizona', 'first-appearance': 'Hulk Vol 2 #2 (April, 2008) (as A-Bomb)', 'publisher': 'Marvel Comics', 'alignment': 'good'}, 'appearance': {'gender': 'Male', 'race': 'Human', 'height': [\"6'8\", '203 cm'], 'weight': ['980 lb', '441 kg'], 'eye-color': 'Yellow', 'hair-color': 'No Hair'}, 'work': {'occupation': 'Musician, adventurer, author; formerly talk show host', 'base': '-'}, 'connections': {'group-affiliation': 'Hulk Family; Excelsior (sponsor), Avengers (honorary member); formerly partner of the Hulk, Captain America and Captain Marvel; Teen Brigade; ally of Rom', 'relatives': 'Marlo Chandler-Jones (wife); Polly (aunt); Mrs. Chandler (mother-in-law); Keith Chandler, Ray Chandler, three unidentified others (brothers-in-law); unidentified father (deceased); Jackie Shorr (alleged mother; unconfirmed)'}, 'image': {'url': 'https://www.superherodb.com/pictures2/portraits/10/100/10060.jpg'}}\n",
      "1\n",
      "{'response': 'success', 'id': '2', 'name': 'Abe Sapien', 'powerstats': {'intelligence': '88', 'strength': '28', 'speed': '35', 'durability': '65', 'power': '100', 'combat': '85'}, 'biography': {'full-name': 'Abraham Sapien', 'alter-egos': 'No alter egos found.', 'aliases': ['Langdon Everett Caul', 'Abraham Sapien', 'Langdon Caul'], 'place-of-birth': '-', 'first-appearance': 'Hellboy: Seed of Destruction (1993)', 'publisher': 'Dark Horse Comics', 'alignment': 'good'}, 'appearance': {'gender': 'Male', 'race': 'Icthyo Sapien', 'height': [\"6'3\", '191 cm'], 'weight': ['145 lb', '65 kg'], 'eye-color': 'Blue', 'hair-color': 'No Hair'}, 'work': {'occupation': 'Paranormal Investigator', 'base': '-'}, 'connections': {'group-affiliation': 'Bureau for Paranormal Research and Defense', 'relatives': 'Edith Howard (wife, deceased)'}, 'image': {'url': 'https://www.superherodb.com/pictures2/portraits/10/100/956.jpg'}}\n",
      "2\n",
      "{'response': 'success', 'id': '3', 'name': 'Abin Sur', 'powerstats': {'intelligence': '50', 'strength': '90', 'speed': '53', 'durability': '64', 'power': '99', 'combat': '65'}, 'biography': {'full-name': '', 'alter-egos': 'No alter egos found.', 'aliases': ['Lagzia'], 'place-of-birth': 'Ungara', 'first-appearance': 'Showcase #22 (October, 1959)', 'publisher': 'DC Comics', 'alignment': 'good'}, 'appearance': {'gender': 'Male', 'race': 'Ungaran', 'height': [\"6'1\", '185 cm'], 'weight': ['200 lb', '90 kg'], 'eye-color': 'Blue', 'hair-color': 'No Hair'}, 'work': {'occupation': 'Green Lantern, former history professor', 'base': 'Oa'}, 'connections': {'group-affiliation': 'Green Lantern Corps, Black Lantern Corps', 'relatives': 'Amon Sur (son), Arin Sur (sister), Thaal Sinestro (brother-in-law), Soranik Natu (niece)'}, 'image': {'url': 'https://www.superherodb.com/pictures2/portraits/10/100/1460.jpg'}}\n",
      "3\n",
      "{'response': 'success', 'id': '4', 'name': 'Abomination', 'powerstats': {'intelligence': '63', 'strength': '80', 'speed': '53', 'durability': '90', 'power': '62', 'combat': '95'}, 'biography': {'full-name': 'Emil Blonsky', 'alter-egos': 'No alter egos found.', 'aliases': ['Agent R-7', 'Ravager of Worlds'], 'place-of-birth': 'Zagreb, Yugoslavia', 'first-appearance': 'Tales to Astonish #90', 'publisher': 'Marvel Comics', 'alignment': 'bad'}, 'appearance': {'gender': 'Male', 'race': 'Human / Radiation', 'height': [\"6'8\", '203 cm'], 'weight': ['980 lb', '441 kg'], 'eye-color': 'Green', 'hair-color': 'No Hair'}, 'work': {'occupation': 'Ex-Spy', 'base': 'Mobile'}, 'connections': {'group-affiliation': 'former member of the crew of the Andromeda Starship, ally of the Abominations and Forgotten', 'relatives': 'Nadia Dornova Blonsky (wife, separated)'}, 'image': {'url': 'https://www.superherodb.com/pictures2/portraits/10/100/1.jpg'}}\n",
      "4\n",
      "{'response': 'success', 'id': '5', 'name': 'Abraxas', 'powerstats': {'intelligence': '88', 'strength': '63', 'speed': '83', 'durability': '100', 'power': '100', 'combat': '55'}, 'biography': {'full-name': 'Abraxas', 'alter-egos': 'No alter egos found.', 'aliases': ['-'], 'place-of-birth': 'Within Eternity', 'first-appearance': 'Fantastic Four Annual #2001', 'publisher': 'Marvel Comics', 'alignment': 'bad'}, 'appearance': {'gender': 'Male', 'race': 'Cosmic Entity', 'height': ['-', '0 cm'], 'weight': ['- lb', '0 kg'], 'eye-color': 'Blue', 'hair-color': 'Black'}, 'work': {'occupation': 'Dimensional destroyer', 'base': '-'}, 'connections': {'group-affiliation': 'Cosmic Beings', 'relatives': 'Eternity (\"Father\")'}, 'image': {'url': 'https://www.superherodb.com/pictures2/portraits/10/100/181.jpg'}}\n",
      "5\n",
      "{'response': 'success', 'id': '6', 'name': 'Absorbing Man', 'powerstats': {'intelligence': '38', 'strength': '80', 'speed': '25', 'durability': '100', 'power': '98', 'combat': '64'}, 'biography': {'full-name': 'Carl Creel', 'alter-egos': 'No alter egos found.', 'aliases': ['Greithoth', '\"Crusher\" Creel', 'Rocky Davis', 'Dynamite Davis', 'Lightningbolt', 'Prisoner #24957'], 'place-of-birth': 'New York City, New York', 'first-appearance': 'Daredevil #1 (April, 1964) (As Rocky Davis)', 'publisher': 'Marvel Comics', 'alignment': 'bad'}, 'appearance': {'gender': 'Male', 'race': 'Human', 'height': [\"6'4\", '193 cm'], 'weight': ['270 lb', '122 kg'], 'eye-color': 'Blue', 'hair-color': 'No Hair'}, 'work': {'occupation': 'Professional criminal; former professional boxer', 'base': '-'}, 'connections': {'group-affiliation': 'Masters of Evil, Lethal Legion; formerly Worthy, Frightful Four: former agent of Loki and They Who Wield Power', 'relatives': 'Mary MacPherran (Titania) (wife); Jerry Sledge (son); Rockwell \"Rocky\" Davis (Hi-Llite) (cousin)'}, 'image': {'url': 'https://www.superherodb.com/pictures2/portraits/10/100/1448.jpg'}}\n",
      "6\n",
      "{'response': 'success', 'id': '7', 'name': 'Adam Monroe', 'powerstats': {'intelligence': '63', 'strength': '10', 'speed': '12', 'durability': '100', 'power': '100', 'combat': '64'}, 'biography': {'full-name': '', 'alter-egos': 'No alter egos found.', 'aliases': ['Takezo Kensei', 'Richard Sanders'], 'place-of-birth': '-', 'first-appearance': 'Heroes S02E01 - Four Months Later...', 'publisher': 'NBC - Heroes', 'alignment': 'good'}, 'appearance': {'gender': 'Male', 'race': 'null', 'height': ['-', '0 cm'], 'weight': ['- lb', '0 kg'], 'eye-color': 'Blue', 'hair-color': 'Blond'}, 'work': {'occupation': 'former samurai swordsman, former British mercenary commander, former soldier in the Confederate Army', 'base': 'U.S.; formerly Diedenshausen, Germany; Milan, Italy; Paris, France; Japan; England; Atlanta, GA; Montreal, Canada'}, 'connections': {'group-affiliation': '-', 'relatives': '-'}, 'image': {'url': 'https://www.superherodb.com/pictures2/portraits/10/100/1026.jpg'}}\n",
      "7\n",
      "{'response': 'success', 'id': '8', 'name': 'Adam Strange', 'powerstats': {'intelligence': '69', 'strength': '10', 'speed': '33', 'durability': '40', 'power': '37', 'combat': '50'}, 'biography': {'full-name': 'Adam Strange', 'alter-egos': 'No alter egos found.', 'aliases': ['Warrior of Two Worlds', 'Savior of Rann'], 'place-of-birth': 'Chicago, Illinois', 'first-appearance': 'Outsiders #6 (April, 1986)', 'publisher': 'DC Comics', 'alignment': 'good'}, 'appearance': {'gender': 'Male', 'race': 'Human', 'height': [\"6'1\", '185 cm'], 'weight': ['195 lb', '88 kg'], 'eye-color': 'Blue', 'hair-color': 'Blond'}, 'work': {'occupation': 'Adventurer, archaelogist, ambassador', 'base': 'Rann, Alpha Centauri System'}, 'connections': {'group-affiliation': 'Omega Men, L.E.G.I.O.N., R.E.B.E.L.S., formerly Seven Soldiers of Victory', 'relatives': 'Alanna Strange (wife); Aleea Strange (daughter); Sardath (father-in-law); Janey Strange (sister); Todd Strange (brother, deceased); Bantteir (mother-in-law); Adam Strange II (descendent)'}, 'image': {'url': 'https://www.superherodb.com/pictures2/portraits/10/100/626.jpg'}}\n",
      "8\n",
      "{'response': 'success', 'id': '9', 'name': 'Agent 13', 'powerstats': {'intelligence': 'null', 'strength': '46', 'speed': 'null', 'durability': 'null', 'power': 'null', 'combat': 'null'}, 'biography': {'full-name': 'Sharon Carter', 'alter-egos': 'Sharon Carter', 'aliases': ['-'], 'place-of-birth': '-', 'first-appearance': 'Tales of Suspense #75', 'publisher': 'Sharon Carter', 'alignment': 'good'}, 'appearance': {'gender': 'Female', 'race': 'null', 'height': [\"5'8\", '173 cm'], 'weight': ['135 lb', '61 kg'], 'eye-color': 'Blue', 'hair-color': 'Blond'}, 'work': {'occupation': 'Agent of SHIELD', 'base': 'S.H.I.E.L.D. Headquarters, New York City'}, 'connections': {'group-affiliation': 'Agent of SHIELD.; former member of the Femme Force', 'relatives': 'Harrison Carter (father), Amanda Carter (mother), Margaret \"Peggy\" Carter (sister)'}, 'image': {'url': 'https://www.superherodb.com/pictures2/portraits/10/100/167.jpg'}}\n",
      "9\n"
     ]
    },
    {
     "name": "stdout",
     "output_type": "stream",
     "text": [
      "{'response': 'success', 'id': '10', 'name': 'Agent Bob', 'powerstats': {'intelligence': '10', 'strength': '8', 'speed': '13', 'durability': '5', 'power': '5', 'combat': '20'}, 'biography': {'full-name': 'Bob', 'alter-egos': 'No alter egos found.', 'aliases': ['Bob', 'agent of Hydra', 'Bob', 'agent of A.I.M'], 'place-of-birth': '-', 'first-appearance': 'Cable & Deadpool #38 (May, 2007)', 'publisher': 'Marvel Comics', 'alignment': 'good'}, 'appearance': {'gender': 'Male', 'race': 'Human', 'height': [\"5'10\", '178 cm'], 'weight': ['181 lb', '81 kg'], 'eye-color': 'Brown', 'hair-color': 'Brown'}, 'work': {'occupation': 'Mercenary, janitor; former pirate, terrorist', 'base': 'Mobile; formerly Manhattan, Hellcarrier'}, 'connections': {'group-affiliation': 'A.I.M., Deadpool; formerly Agency X, Hydra', 'relatives': 'Allison (ex-wife); Terry and Howie (sons)'}, 'image': {'url': 'https://www.superherodb.com/pictures2/portraits/10/100/10255.jpg'}}\n",
      "10\n",
      "{'response': 'success', 'id': '11', 'name': 'Agent Zero', 'powerstats': {'intelligence': '75', 'strength': '28', 'speed': '38', 'durability': '80', 'power': '72', 'combat': '95'}, 'biography': {'full-name': 'Christoph Nord', 'alter-egos': 'No alter egos found.', 'aliases': ['Maverick'], 'place-of-birth': 'Unrevealed location in former East Germany', 'first-appearance': '-', 'publisher': 'Marvel Comics', 'alignment': 'good'}, 'appearance': {'gender': 'Male', 'race': 'null', 'height': [\"6'3\", '191 cm'], 'weight': ['230 lb', '104 kg'], 'eye-color': '-', 'hair-color': '-'}, 'work': {'occupation': 'Mercenary, former government operative, freedom fighter', 'base': '-'}, 'connections': {'group-affiliation': 'Formerly Weapon X, Weapon Plus, Team X, Cell Six, former bodyguard of Psi-Borg, former agent of Major Barrington', 'relatives': 'Unidentified parents (deceased), Andreas Nord (brother, deceased), Ginetta Lucia Barsalini (wife, deceased), unnamed child (deceased)'}, 'image': {'url': 'https://www.superherodb.com/pictures2/portraits/10/100/396.jpg'}}\n",
      "11\n",
      "{'response': 'success', 'id': '12', 'name': 'Air-Walker', 'powerstats': {'intelligence': '50', 'strength': '85', 'speed': '100', 'durability': '85', 'power': '100', 'combat': '40'}, 'biography': {'full-name': 'Gabriel Lan', 'alter-egos': 'No alter egos found.', 'aliases': ['-'], 'place-of-birth': 'Xandar, a planet in the Tranta system, Andromeda galaxy', 'first-appearance': 'Fantastic Four #120', 'publisher': 'Marvel Comics', 'alignment': 'bad'}, 'appearance': {'gender': 'Male', 'race': 'null', 'height': [\"6'2\", '188 cm'], 'weight': ['240 lb', '108 kg'], 'eye-color': 'Blue', 'hair-color': 'White'}, 'work': {'occupation': 'Former starship captain, Herald of Galactus', 'base': '-'}, 'connections': {'group-affiliation': 'Former member of Nova Corps, Heralds of Galactus', 'relatives': '-'}, 'image': {'url': 'https://www.superherodb.com/pictures2/portraits/10/100/1358.jpg'}}\n",
      "12\n",
      "{'response': 'success', 'id': '13', 'name': 'Ajax', 'powerstats': {'intelligence': '56', 'strength': '48', 'speed': '35', 'durability': '80', 'power': '34', 'combat': '55'}, 'biography': {'full-name': 'Francis', 'alter-egos': 'No alter egos found.', 'aliases': ['\"Frankie\"', 'the A-Man', 'the Attending'], 'place-of-birth': '-', 'first-appearance': 'Deadpool #14 (March, 1998)', 'publisher': 'Marvel Comics', 'alignment': 'bad'}, 'appearance': {'gender': 'Male', 'race': 'Cyborg', 'height': [\"6'4\", '193 cm'], 'weight': ['200 lb', '90 kg'], 'eye-color': 'Brown', 'hair-color': 'Black'}, 'work': {'occupation': '-', 'base': '-'}, 'connections': {'group-affiliation': 'Formerly Weapon X', 'relatives': '-'}, 'image': {'url': 'https://www.superherodb.com/pictures2/portraits/10/100/10422.jpg'}}\n",
      "13\n",
      "{'response': 'success', 'id': '14', 'name': 'Alan Scott', 'powerstats': {'intelligence': '63', 'strength': '80', 'speed': '23', 'durability': '90', 'power': '100', 'combat': '32'}, 'biography': {'full-name': 'Alan Ladd Wellington Scott', 'alter-egos': 'No alter egos found.', 'aliases': ['Green Lantern', 'White King', 'Sentinal'], 'place-of-birth': 'Gotham City', 'first-appearance': 'All-American Comics 16 (1940)', 'publisher': 'DC Comics', 'alignment': 'good'}, 'appearance': {'gender': 'Male', 'race': 'null', 'height': [\"5'11\", '180 cm'], 'weight': ['201 lb', '90 kg'], 'eye-color': 'Blue', 'hair-color': 'Blond'}, 'work': {'occupation': '-', 'base': 'Gotham City and New York City; Formerly Capitol City'}, 'connections': {'group-affiliation': 'Justice Society of America; Formerly Checkmate; the Sentinels of Magic; Formerly All-Star Squadron', 'relatives': 'Harlequin (Molly Mayne-Scott) (wife), Thorn (Rose Canton) (first wife, deceased), Todd Rice (Obsidian, son), Jennie-Lynn Hayden (Jade, daughter, deceased)'}, 'image': {'url': 'https://www.superherodb.com/pictures2/portraits/10/100/698.jpg'}}\n",
      "14\n",
      "{'response': 'success', 'id': '15', 'name': 'Alex Mercer', 'powerstats': {'intelligence': '50', 'strength': '80', 'speed': '42', 'durability': '90', 'power': '100', 'combat': '50'}, 'biography': {'full-name': 'Alexander J. Mercer', 'alter-egos': 'No alter egos found.', 'aliases': ['Prototype', 'Zues', 'Blacklight'], 'place-of-birth': '-', 'first-appearance': '-', 'publisher': 'Wildstorm', 'alignment': 'bad'}, 'appearance': {'gender': 'Male', 'race': 'Human', 'height': ['-', '0 cm'], 'weight': ['- lb', '0 kg'], 'eye-color': '-', 'hair-color': '-'}, 'work': {'occupation': '-', 'base': '-'}, 'connections': {'group-affiliation': 'Gentek, The Infected', 'relatives': 'Dana Mercer (sister)'}, 'image': {'url': 'https://www.superherodb.com/pictures2/portraits/10/100/10398.jpg'}}\n",
      "15\n",
      "{'response': 'success', 'id': '16', 'name': 'Alex Woolsly', 'powerstats': {'intelligence': 'null', 'strength': '37', 'speed': 'null', 'durability': 'null', 'power': 'null', 'combat': 'null'}, 'biography': {'full-name': 'Alex Woolsly', 'alter-egos': 'No alter egos found.', 'aliases': ['-'], 'place-of-birth': '-', 'first-appearance': 'Heroes S02E16 - Building 26', 'publisher': 'NBC - Heroes', 'alignment': 'good'}, 'appearance': {'gender': 'Male', 'race': 'null', 'height': ['-', '0 cm'], 'weight': ['- lb', '0 kg'], 'eye-color': '-', 'hair-color': '-'}, 'work': {'occupation': \"Employee at Sam's Comics\", 'base': 'Costa Verde, CA'}, 'connections': {'group-affiliation': '-', 'relatives': 'Mr. Woolsly, Mrs. Woolsly, sister'}, 'image': {'url': 'https://www.superherodb.com/pictures2/portraits/10/100/1309.jpg'}}\n",
      "16\n",
      "{'response': 'success', 'id': '17', 'name': 'Alfred Pennyworth', 'powerstats': {'intelligence': '63', 'strength': '10', 'speed': '17', 'durability': '10', 'power': '7', 'combat': '55'}, 'biography': {'full-name': 'Alfred Thaddeus Crane Pennyworth', 'alter-egos': 'No alter egos found.', 'aliases': ['Alfred Beagle'], 'place-of-birth': '-', 'first-appearance': 'Batman #16 (April, 1943)', 'publisher': 'DC Comics', 'alignment': 'good'}, 'appearance': {'gender': 'Male', 'race': 'Human', 'height': [\"5'10\", '178 cm'], 'weight': ['160 lb', '72 kg'], 'eye-color': 'Blue', 'hair-color': 'Black'}, 'work': {'occupation': 'Butler; Caretaker, former Actor; Field Medic; Government Agent', 'base': 'Wayne Manor; Batcave; Gotham City'}, 'connections': {'group-affiliation': 'Batman Family, Outsiders', 'relatives': 'Jarvis Pennyworth (father, deceased), Wilfred Pennyworth (older brother), Daphne Pennyworth (niece); Bruce Wayne (Batman, legal ward)'}, 'image': {'url': 'https://www.superherodb.com/pictures2/portraits/10/100/628.jpg'}}\n",
      "17\n",
      "{'response': 'success', 'id': '18', 'name': 'Alien', 'powerstats': {'intelligence': '50', 'strength': '28', 'speed': '42', 'durability': '90', 'power': '57', 'combat': '60'}, 'biography': {'full-name': 'Xenomorph', 'alter-egos': 'No alter egos found.', 'aliases': ['-'], 'place-of-birth': 'Your chest :)', 'first-appearance': 'Alien (1979)', 'publisher': 'Dark Horse Comics', 'alignment': 'bad'}, 'appearance': {'gender': 'Male', 'race': 'Xenomorph XX121', 'height': [\"8'0\", '244 cm'], 'weight': ['375 lb', '169 kg'], 'eye-color': '-', 'hair-color': 'No Hair'}, 'work': {'occupation': '-', 'base': '-'}, 'connections': {'group-affiliation': '-', 'relatives': 'Alien Queen (mother)'}, 'image': {'url': 'https://www.superherodb.com/pictures2/portraits/10/100/10449.jpg'}}\n",
      "18\n"
     ]
    },
    {
     "name": "stdout",
     "output_type": "stream",
     "text": [
      "{'response': 'success', 'id': '19', 'name': 'Allan Quatermain', 'powerstats': {'intelligence': 'null', 'strength': 'null', 'speed': 'null', 'durability': 'null', 'power': 'null', 'combat': 'null'}, 'biography': {'full-name': '', 'alter-egos': 'No alter egos found.', 'aliases': ['-'], 'place-of-birth': '-', 'first-appearance': \"(original version) King Solomon's Mines; (this version) League of Extraordinary Gentlemen #1 (America's Best Comics)\", 'publisher': 'Wildstorm', 'alignment': 'good'}, 'appearance': {'gender': 'Male', 'race': 'null', 'height': ['-', '0 cm'], 'weight': ['- lb', '0 kg'], 'eye-color': '-', 'hair-color': '-'}, 'work': {'occupation': '(former) hunter; (current) agent of the British government', 'base': 'The Secret Wing of the British Museum, London'}, 'connections': {'group-affiliation': 'League of Extraordinary Gentlemen', 'relatives': '-'}, 'image': {'url': 'https://www.superherodb.com/pictures2/portraits/10/100/630.jpg'}}\n",
      "19\n",
      "{'response': 'success', 'id': '20', 'name': 'Amazo', 'powerstats': {'intelligence': '63', 'strength': '100', 'speed': '83', 'durability': '100', 'power': '100', 'combat': '100'}, 'biography': {'full-name': '', 'alter-egos': 'No alter egos found.', 'aliases': ['Professor Ivos Amazing Android', 'Timazo', 'Humazo', 'Hourmazo'], 'place-of-birth': '-', 'first-appearance': 'Brave and the Bold #30 (July, 1960)', 'publisher': 'DC Comics', 'alignment': 'bad'}, 'appearance': {'gender': 'Male', 'race': 'Android', 'height': [\"8'5\", '257 cm'], 'weight': ['385 lb', '173 kg'], 'eye-color': 'Red', 'hair-color': '-'}, 'work': {'occupation': '-', 'base': '-'}, 'connections': {'group-affiliation': 'Formerly the Secret Society of Super Villains', 'relatives': 'Professor Ivo (creator), Kid Amazo (cyborg offspring)'}, 'image': {'url': 'https://www.superherodb.com/pictures2/portraits/10/100/1390.jpg'}}\n",
      "20\n",
      "{'response': 'success', 'id': '21', 'name': 'Ammo', 'powerstats': {'intelligence': 'null', 'strength': 'null', 'speed': 'null', 'durability': 'null', 'power': 'null', 'combat': 'null'}, 'biography': {'full-name': '', 'alter-egos': 'No alter egos found.', 'aliases': ['-'], 'place-of-birth': '-', 'first-appearance': 'Daredevil #252 (March, 1988)', 'publisher': 'Marvel Comics', 'alignment': 'bad'}, 'appearance': {'gender': 'Male', 'race': 'Human', 'height': [\"6'2\", '188 cm'], 'weight': ['225 lb', '101 kg'], 'eye-color': 'Brown', 'hair-color': 'Black'}, 'work': {'occupation': 'Gang leader , criminal , former soldier', 'base': 'New York City'}, 'connections': {'group-affiliation': 'former leader of the Wildboys', 'relatives': '-'}, 'image': {'url': 'https://www.superherodb.com/pictures2/portraits/10/100/184.jpg'}}\n",
      "21\n",
      "{'response': 'success', 'id': '22', 'name': 'Ando Masahashi', 'powerstats': {'intelligence': 'null', 'strength': 'null', 'speed': 'null', 'durability': 'null', 'power': 'null', 'combat': 'null'}, 'biography': {'full-name': 'Ando Masahashi', 'alter-egos': 'No alter egos found.', 'aliases': ['Huggerz69', 'Sidekick'], 'place-of-birth': '-', 'first-appearance': '-', 'publisher': 'NBC - Heroes', 'alignment': 'good'}, 'appearance': {'gender': 'Male', 'race': 'null', 'height': ['-', '0 cm'], 'weight': ['- lb', '0 kg'], 'eye-color': '-', 'hair-color': '-'}, 'work': {'occupation': 'Yamagato Industries computer programmer', 'base': '-'}, 'connections': {'group-affiliation': '-', 'relatives': '-'}, 'image': {'url': 'https://www.superherodb.com/pictures2/portraits/10/100/1310.jpg'}}\n",
      "22\n",
      "{'response': 'success', 'id': '23', 'name': 'Angel', 'powerstats': {'intelligence': '75', 'strength': '30', 'speed': '58', 'durability': '90', 'power': '100', 'combat': '75'}, 'biography': {'full-name': 'Liam', 'alter-egos': 'No alter egos found.', 'aliases': ['Angelus', 'Twilight'], 'place-of-birth': '-', 'first-appearance': '-', 'publisher': 'Dark Horse Comics', 'alignment': 'good'}, 'appearance': {'gender': 'Male', 'race': 'Vampire', 'height': ['-', '0 cm'], 'weight': ['- lb', '0 kg'], 'eye-color': '-', 'hair-color': '-'}, 'work': {'occupation': '-', 'base': '-'}, 'connections': {'group-affiliation': '-', 'relatives': 'Kathy (sister), Connor (son), Twilight (\"child\")'}, 'image': {'url': 'https://www.superherodb.com/pictures2/portraits/10/100/10431.jpg'}}\n",
      "23\n",
      "{'response': 'success', 'id': '24', 'name': 'Angel', 'powerstats': {'intelligence': '63', 'strength': '13', 'speed': '46', 'durability': '64', 'power': '28', 'combat': '42'}, 'biography': {'full-name': 'Warren Kenneth Worthington III', 'alter-egos': 'Archangel', 'aliases': ['Formerly Death', 'Dark Angel', 'Angel', 'Avenging Angel', 'Archangel'], 'place-of-birth': 'Centerport, Long Island, New York', 'first-appearance': 'X-Men #54-56 (1969)', 'publisher': 'Archangel', 'alignment': 'good'}, 'appearance': {'gender': 'Male', 'race': 'null', 'height': [\"6'0\", '183 cm'], 'weight': ['150 lb', '68 kg'], 'eye-color': 'Blue', 'hair-color': 'Blond'}, 'work': {'occupation': 'Adventurer, chairman & principal stockholder of Worthington Industries, former terrorist', 'base': '-'}, 'connections': {'group-affiliation': \"X-Men, Mutantes Sans Fronti�res, Hellfire Club; formerly Secret Defenders, X-Factor/X-Terminators, Horsemen of Apocalypse, Defenders, Death's champions, Champions of Los Angeles\", 'relatives': 'Warren Kenneth Worthington Sr. (grandfather, deceased), Warren Kenneth Worthington Jr. (father, deceased), Kathryn Worthington (mother, deceased), Burtram \"Burt\" Worthington (Dazzler, paternal uncle), unnamed cousin'}, 'image': {'url': 'https://www.superherodb.com/pictures2/portraits/10/100/829.jpg'}}\n",
      "24\n",
      "{'response': 'success', 'id': '25', 'name': 'Angel Dust', 'powerstats': {'intelligence': '38', 'strength': '55', 'speed': '23', 'durability': '42', 'power': '17', 'combat': '30'}, 'biography': {'full-name': 'Christina', 'alter-egos': 'No alter egos found.', 'aliases': ['Angel', 'Dusty'], 'place-of-birth': '-', 'first-appearance': 'Morlocks #1', 'publisher': 'Marvel Comics', 'alignment': 'good'}, 'appearance': {'gender': 'Female', 'race': 'Mutant', 'height': [\"5'5\", '165 cm'], 'weight': ['126 lb', '57 kg'], 'eye-color': 'Yellow', 'hair-color': 'Black'}, 'work': {'occupation': '-', 'base': 'Chicago, Illinois'}, 'connections': {'group-affiliation': '-', 'relatives': '-'}, 'image': {'url': 'https://www.superherodb.com/pictures2/portraits/10/100/10405.jpg'}}\n",
      "25\n",
      "{'response': 'success', 'id': '26', 'name': 'Angel Salvadore', 'powerstats': {'intelligence': '38', 'strength': '10', 'speed': '28', 'durability': '28', 'power': '56', 'combat': '60'}, 'biography': {'full-name': 'Angel Salvadore Bohusk', 'alter-egos': 'Tempest', 'aliases': ['Tempest'], 'place-of-birth': '-', 'first-appearance': 'New X-Men #118 (November, 2001)', 'publisher': 'Tempest', 'alignment': 'good'}, 'appearance': {'gender': 'Female', 'race': 'null', 'height': [\"5'4\", '163 cm'], 'weight': ['121 lb', '54 kg'], 'eye-color': 'Brown', 'hair-color': 'Black'}, 'work': {'occupation': '-', 'base': '-'}, 'connections': {'group-affiliation': 'Formerly New Warriors; Special Class', 'relatives': 'Tito Bohusk (son); Axel Bohusk (son); Kara Bohusk (daughter); three other unidentified children;'}, 'image': {'url': 'https://www.superherodb.com/pictures2/portraits/10/100/1406.jpg'}}\n",
      "26\n"
     ]
    },
    {
     "ename": "KeyboardInterrupt",
     "evalue": "",
     "output_type": "error",
     "traceback": [
      "\u001b[1;31m---------------------------------------------------------------------------\u001b[0m",
      "\u001b[1;31mKeyboardInterrupt\u001b[0m                         Traceback (most recent call last)",
      "\u001b[1;32m<ipython-input-6-d606c0414a45>\u001b[0m in \u001b[0;36m<module>\u001b[1;34m\u001b[0m\n\u001b[0;32m      3\u001b[0m \u001b[1;33m\u001b[0m\u001b[0m\n\u001b[0;32m      4\u001b[0m \u001b[1;32mfor\u001b[0m \u001b[0mid\u001b[0m \u001b[1;32min\u001b[0m \u001b[0mrange\u001b[0m\u001b[1;33m(\u001b[0m\u001b[1;36m1\u001b[0m\u001b[1;33m,\u001b[0m\u001b[1;36m732\u001b[0m\u001b[1;33m)\u001b[0m\u001b[1;33m:\u001b[0m\u001b[1;33m\u001b[0m\u001b[1;33m\u001b[0m\u001b[0m\n\u001b[1;32m----> 5\u001b[1;33m     \u001b[0mresponse\u001b[0m \u001b[1;33m=\u001b[0m \u001b[0mrequests\u001b[0m\u001b[1;33m.\u001b[0m\u001b[0mget\u001b[0m\u001b[1;33m(\u001b[0m\u001b[0mbase_url\u001b[0m \u001b[1;33m+\u001b[0m \u001b[0mstr\u001b[0m\u001b[1;33m(\u001b[0m\u001b[0mid\u001b[0m\u001b[1;33m)\u001b[0m\u001b[1;33m)\u001b[0m\u001b[1;33m.\u001b[0m\u001b[0mjson\u001b[0m\u001b[1;33m(\u001b[0m\u001b[1;33m)\u001b[0m\u001b[1;33m\u001b[0m\u001b[1;33m\u001b[0m\u001b[0m\n\u001b[0m\u001b[0;32m      6\u001b[0m     \u001b[0mprint\u001b[0m\u001b[1;33m(\u001b[0m\u001b[0mresponse\u001b[0m\u001b[1;33m)\u001b[0m\u001b[1;33m\u001b[0m\u001b[1;33m\u001b[0m\u001b[0m\n\u001b[0;32m      7\u001b[0m     \u001b[0mprint\u001b[0m\u001b[1;33m(\u001b[0m\u001b[0mid\u001b[0m\u001b[1;33m)\u001b[0m\u001b[1;33m\u001b[0m\u001b[1;33m\u001b[0m\u001b[0m\n",
      "\u001b[1;32m~\\Anaconda3\\envs\\PythonData\\lib\\site-packages\\requests\\api.py\u001b[0m in \u001b[0;36mget\u001b[1;34m(url, params, **kwargs)\u001b[0m\n\u001b[0;32m     74\u001b[0m \u001b[1;33m\u001b[0m\u001b[0m\n\u001b[0;32m     75\u001b[0m     \u001b[0mkwargs\u001b[0m\u001b[1;33m.\u001b[0m\u001b[0msetdefault\u001b[0m\u001b[1;33m(\u001b[0m\u001b[1;34m'allow_redirects'\u001b[0m\u001b[1;33m,\u001b[0m \u001b[1;32mTrue\u001b[0m\u001b[1;33m)\u001b[0m\u001b[1;33m\u001b[0m\u001b[1;33m\u001b[0m\u001b[0m\n\u001b[1;32m---> 76\u001b[1;33m     \u001b[1;32mreturn\u001b[0m \u001b[0mrequest\u001b[0m\u001b[1;33m(\u001b[0m\u001b[1;34m'get'\u001b[0m\u001b[1;33m,\u001b[0m \u001b[0murl\u001b[0m\u001b[1;33m,\u001b[0m \u001b[0mparams\u001b[0m\u001b[1;33m=\u001b[0m\u001b[0mparams\u001b[0m\u001b[1;33m,\u001b[0m \u001b[1;33m**\u001b[0m\u001b[0mkwargs\u001b[0m\u001b[1;33m)\u001b[0m\u001b[1;33m\u001b[0m\u001b[1;33m\u001b[0m\u001b[0m\n\u001b[0m\u001b[0;32m     77\u001b[0m \u001b[1;33m\u001b[0m\u001b[0m\n\u001b[0;32m     78\u001b[0m \u001b[1;33m\u001b[0m\u001b[0m\n",
      "\u001b[1;32m~\\Anaconda3\\envs\\PythonData\\lib\\site-packages\\requests\\api.py\u001b[0m in \u001b[0;36mrequest\u001b[1;34m(method, url, **kwargs)\u001b[0m\n\u001b[0;32m     59\u001b[0m     \u001b[1;31m# cases, and look like a memory leak in others.\u001b[0m\u001b[1;33m\u001b[0m\u001b[1;33m\u001b[0m\u001b[1;33m\u001b[0m\u001b[0m\n\u001b[0;32m     60\u001b[0m     \u001b[1;32mwith\u001b[0m \u001b[0msessions\u001b[0m\u001b[1;33m.\u001b[0m\u001b[0mSession\u001b[0m\u001b[1;33m(\u001b[0m\u001b[1;33m)\u001b[0m \u001b[1;32mas\u001b[0m \u001b[0msession\u001b[0m\u001b[1;33m:\u001b[0m\u001b[1;33m\u001b[0m\u001b[1;33m\u001b[0m\u001b[0m\n\u001b[1;32m---> 61\u001b[1;33m         \u001b[1;32mreturn\u001b[0m \u001b[0msession\u001b[0m\u001b[1;33m.\u001b[0m\u001b[0mrequest\u001b[0m\u001b[1;33m(\u001b[0m\u001b[0mmethod\u001b[0m\u001b[1;33m=\u001b[0m\u001b[0mmethod\u001b[0m\u001b[1;33m,\u001b[0m \u001b[0murl\u001b[0m\u001b[1;33m=\u001b[0m\u001b[0murl\u001b[0m\u001b[1;33m,\u001b[0m \u001b[1;33m**\u001b[0m\u001b[0mkwargs\u001b[0m\u001b[1;33m)\u001b[0m\u001b[1;33m\u001b[0m\u001b[1;33m\u001b[0m\u001b[0m\n\u001b[0m\u001b[0;32m     62\u001b[0m \u001b[1;33m\u001b[0m\u001b[0m\n\u001b[0;32m     63\u001b[0m \u001b[1;33m\u001b[0m\u001b[0m\n",
      "\u001b[1;32m~\\Anaconda3\\envs\\PythonData\\lib\\site-packages\\requests\\sessions.py\u001b[0m in \u001b[0;36mrequest\u001b[1;34m(self, method, url, params, data, headers, cookies, files, auth, timeout, allow_redirects, proxies, hooks, stream, verify, cert, json)\u001b[0m\n\u001b[0;32m    528\u001b[0m         }\n\u001b[0;32m    529\u001b[0m         \u001b[0msend_kwargs\u001b[0m\u001b[1;33m.\u001b[0m\u001b[0mupdate\u001b[0m\u001b[1;33m(\u001b[0m\u001b[0msettings\u001b[0m\u001b[1;33m)\u001b[0m\u001b[1;33m\u001b[0m\u001b[1;33m\u001b[0m\u001b[0m\n\u001b[1;32m--> 530\u001b[1;33m         \u001b[0mresp\u001b[0m \u001b[1;33m=\u001b[0m \u001b[0mself\u001b[0m\u001b[1;33m.\u001b[0m\u001b[0msend\u001b[0m\u001b[1;33m(\u001b[0m\u001b[0mprep\u001b[0m\u001b[1;33m,\u001b[0m \u001b[1;33m**\u001b[0m\u001b[0msend_kwargs\u001b[0m\u001b[1;33m)\u001b[0m\u001b[1;33m\u001b[0m\u001b[1;33m\u001b[0m\u001b[0m\n\u001b[0m\u001b[0;32m    531\u001b[0m \u001b[1;33m\u001b[0m\u001b[0m\n\u001b[0;32m    532\u001b[0m         \u001b[1;32mreturn\u001b[0m \u001b[0mresp\u001b[0m\u001b[1;33m\u001b[0m\u001b[1;33m\u001b[0m\u001b[0m\n",
      "\u001b[1;32m~\\Anaconda3\\envs\\PythonData\\lib\\site-packages\\requests\\sessions.py\u001b[0m in \u001b[0;36msend\u001b[1;34m(self, request, **kwargs)\u001b[0m\n\u001b[0;32m    641\u001b[0m \u001b[1;33m\u001b[0m\u001b[0m\n\u001b[0;32m    642\u001b[0m         \u001b[1;31m# Send the request\u001b[0m\u001b[1;33m\u001b[0m\u001b[1;33m\u001b[0m\u001b[1;33m\u001b[0m\u001b[0m\n\u001b[1;32m--> 643\u001b[1;33m         \u001b[0mr\u001b[0m \u001b[1;33m=\u001b[0m \u001b[0madapter\u001b[0m\u001b[1;33m.\u001b[0m\u001b[0msend\u001b[0m\u001b[1;33m(\u001b[0m\u001b[0mrequest\u001b[0m\u001b[1;33m,\u001b[0m \u001b[1;33m**\u001b[0m\u001b[0mkwargs\u001b[0m\u001b[1;33m)\u001b[0m\u001b[1;33m\u001b[0m\u001b[1;33m\u001b[0m\u001b[0m\n\u001b[0m\u001b[0;32m    644\u001b[0m \u001b[1;33m\u001b[0m\u001b[0m\n\u001b[0;32m    645\u001b[0m         \u001b[1;31m# Total elapsed time of the request (approximately)\u001b[0m\u001b[1;33m\u001b[0m\u001b[1;33m\u001b[0m\u001b[1;33m\u001b[0m\u001b[0m\n",
      "\u001b[1;32m~\\Anaconda3\\envs\\PythonData\\lib\\site-packages\\requests\\adapters.py\u001b[0m in \u001b[0;36msend\u001b[1;34m(self, request, stream, timeout, verify, cert, proxies)\u001b[0m\n\u001b[0;32m    447\u001b[0m                     \u001b[0mdecode_content\u001b[0m\u001b[1;33m=\u001b[0m\u001b[1;32mFalse\u001b[0m\u001b[1;33m,\u001b[0m\u001b[1;33m\u001b[0m\u001b[1;33m\u001b[0m\u001b[0m\n\u001b[0;32m    448\u001b[0m                     \u001b[0mretries\u001b[0m\u001b[1;33m=\u001b[0m\u001b[0mself\u001b[0m\u001b[1;33m.\u001b[0m\u001b[0mmax_retries\u001b[0m\u001b[1;33m,\u001b[0m\u001b[1;33m\u001b[0m\u001b[1;33m\u001b[0m\u001b[0m\n\u001b[1;32m--> 449\u001b[1;33m                     \u001b[0mtimeout\u001b[0m\u001b[1;33m=\u001b[0m\u001b[0mtimeout\u001b[0m\u001b[1;33m\u001b[0m\u001b[1;33m\u001b[0m\u001b[0m\n\u001b[0m\u001b[0;32m    450\u001b[0m                 )\n\u001b[0;32m    451\u001b[0m \u001b[1;33m\u001b[0m\u001b[0m\n",
      "\u001b[1;32m~\\Anaconda3\\envs\\PythonData\\lib\\site-packages\\urllib3\\connectionpool.py\u001b[0m in \u001b[0;36murlopen\u001b[1;34m(self, method, url, body, headers, retries, redirect, assert_same_host, timeout, pool_timeout, release_conn, chunked, body_pos, **response_kw)\u001b[0m\n\u001b[0;32m    670\u001b[0m                 \u001b[0mbody\u001b[0m\u001b[1;33m=\u001b[0m\u001b[0mbody\u001b[0m\u001b[1;33m,\u001b[0m\u001b[1;33m\u001b[0m\u001b[1;33m\u001b[0m\u001b[0m\n\u001b[0;32m    671\u001b[0m                 \u001b[0mheaders\u001b[0m\u001b[1;33m=\u001b[0m\u001b[0mheaders\u001b[0m\u001b[1;33m,\u001b[0m\u001b[1;33m\u001b[0m\u001b[1;33m\u001b[0m\u001b[0m\n\u001b[1;32m--> 672\u001b[1;33m                 \u001b[0mchunked\u001b[0m\u001b[1;33m=\u001b[0m\u001b[0mchunked\u001b[0m\u001b[1;33m,\u001b[0m\u001b[1;33m\u001b[0m\u001b[1;33m\u001b[0m\u001b[0m\n\u001b[0m\u001b[0;32m    673\u001b[0m             )\n\u001b[0;32m    674\u001b[0m \u001b[1;33m\u001b[0m\u001b[0m\n",
      "\u001b[1;32m~\\Anaconda3\\envs\\PythonData\\lib\\site-packages\\urllib3\\connectionpool.py\u001b[0m in \u001b[0;36m_make_request\u001b[1;34m(self, conn, method, url, timeout, chunked, **httplib_request_kw)\u001b[0m\n\u001b[0;32m    419\u001b[0m                     \u001b[1;31m# Python 3 (including for exceptions like SystemExit).\u001b[0m\u001b[1;33m\u001b[0m\u001b[1;33m\u001b[0m\u001b[1;33m\u001b[0m\u001b[0m\n\u001b[0;32m    420\u001b[0m                     \u001b[1;31m# Otherwise it looks like a bug in the code.\u001b[0m\u001b[1;33m\u001b[0m\u001b[1;33m\u001b[0m\u001b[1;33m\u001b[0m\u001b[0m\n\u001b[1;32m--> 421\u001b[1;33m                     \u001b[0msix\u001b[0m\u001b[1;33m.\u001b[0m\u001b[0mraise_from\u001b[0m\u001b[1;33m(\u001b[0m\u001b[0me\u001b[0m\u001b[1;33m,\u001b[0m \u001b[1;32mNone\u001b[0m\u001b[1;33m)\u001b[0m\u001b[1;33m\u001b[0m\u001b[1;33m\u001b[0m\u001b[0m\n\u001b[0m\u001b[0;32m    422\u001b[0m         \u001b[1;32mexcept\u001b[0m \u001b[1;33m(\u001b[0m\u001b[0mSocketTimeout\u001b[0m\u001b[1;33m,\u001b[0m \u001b[0mBaseSSLError\u001b[0m\u001b[1;33m,\u001b[0m \u001b[0mSocketError\u001b[0m\u001b[1;33m)\u001b[0m \u001b[1;32mas\u001b[0m \u001b[0me\u001b[0m\u001b[1;33m:\u001b[0m\u001b[1;33m\u001b[0m\u001b[1;33m\u001b[0m\u001b[0m\n\u001b[0;32m    423\u001b[0m             \u001b[0mself\u001b[0m\u001b[1;33m.\u001b[0m\u001b[0m_raise_timeout\u001b[0m\u001b[1;33m(\u001b[0m\u001b[0merr\u001b[0m\u001b[1;33m=\u001b[0m\u001b[0me\u001b[0m\u001b[1;33m,\u001b[0m \u001b[0murl\u001b[0m\u001b[1;33m=\u001b[0m\u001b[0murl\u001b[0m\u001b[1;33m,\u001b[0m \u001b[0mtimeout_value\u001b[0m\u001b[1;33m=\u001b[0m\u001b[0mread_timeout\u001b[0m\u001b[1;33m)\u001b[0m\u001b[1;33m\u001b[0m\u001b[1;33m\u001b[0m\u001b[0m\n",
      "\u001b[1;32m~\\Anaconda3\\envs\\PythonData\\lib\\site-packages\\urllib3\\packages\\six.py\u001b[0m in \u001b[0;36mraise_from\u001b[1;34m(value, from_value)\u001b[0m\n",
      "\u001b[1;32m~\\Anaconda3\\envs\\PythonData\\lib\\site-packages\\urllib3\\connectionpool.py\u001b[0m in \u001b[0;36m_make_request\u001b[1;34m(self, conn, method, url, timeout, chunked, **httplib_request_kw)\u001b[0m\n\u001b[0;32m    414\u001b[0m                 \u001b[1;31m# Python 3\u001b[0m\u001b[1;33m\u001b[0m\u001b[1;33m\u001b[0m\u001b[1;33m\u001b[0m\u001b[0m\n\u001b[0;32m    415\u001b[0m                 \u001b[1;32mtry\u001b[0m\u001b[1;33m:\u001b[0m\u001b[1;33m\u001b[0m\u001b[1;33m\u001b[0m\u001b[0m\n\u001b[1;32m--> 416\u001b[1;33m                     \u001b[0mhttplib_response\u001b[0m \u001b[1;33m=\u001b[0m \u001b[0mconn\u001b[0m\u001b[1;33m.\u001b[0m\u001b[0mgetresponse\u001b[0m\u001b[1;33m(\u001b[0m\u001b[1;33m)\u001b[0m\u001b[1;33m\u001b[0m\u001b[1;33m\u001b[0m\u001b[0m\n\u001b[0m\u001b[0;32m    417\u001b[0m                 \u001b[1;32mexcept\u001b[0m \u001b[0mBaseException\u001b[0m \u001b[1;32mas\u001b[0m \u001b[0me\u001b[0m\u001b[1;33m:\u001b[0m\u001b[1;33m\u001b[0m\u001b[1;33m\u001b[0m\u001b[0m\n\u001b[0;32m    418\u001b[0m                     \u001b[1;31m# Remove the TypeError from the exception chain in\u001b[0m\u001b[1;33m\u001b[0m\u001b[1;33m\u001b[0m\u001b[1;33m\u001b[0m\u001b[0m\n",
      "\u001b[1;32m~\\Anaconda3\\envs\\PythonData\\lib\\http\\client.py\u001b[0m in \u001b[0;36mgetresponse\u001b[1;34m(self)\u001b[0m\n\u001b[0;32m   1352\u001b[0m         \u001b[1;32mtry\u001b[0m\u001b[1;33m:\u001b[0m\u001b[1;33m\u001b[0m\u001b[1;33m\u001b[0m\u001b[0m\n\u001b[0;32m   1353\u001b[0m             \u001b[1;32mtry\u001b[0m\u001b[1;33m:\u001b[0m\u001b[1;33m\u001b[0m\u001b[1;33m\u001b[0m\u001b[0m\n\u001b[1;32m-> 1354\u001b[1;33m                 \u001b[0mresponse\u001b[0m\u001b[1;33m.\u001b[0m\u001b[0mbegin\u001b[0m\u001b[1;33m(\u001b[0m\u001b[1;33m)\u001b[0m\u001b[1;33m\u001b[0m\u001b[1;33m\u001b[0m\u001b[0m\n\u001b[0m\u001b[0;32m   1355\u001b[0m             \u001b[1;32mexcept\u001b[0m \u001b[0mConnectionError\u001b[0m\u001b[1;33m:\u001b[0m\u001b[1;33m\u001b[0m\u001b[1;33m\u001b[0m\u001b[0m\n\u001b[0;32m   1356\u001b[0m                 \u001b[0mself\u001b[0m\u001b[1;33m.\u001b[0m\u001b[0mclose\u001b[0m\u001b[1;33m(\u001b[0m\u001b[1;33m)\u001b[0m\u001b[1;33m\u001b[0m\u001b[1;33m\u001b[0m\u001b[0m\n",
      "\u001b[1;32m~\\Anaconda3\\envs\\PythonData\\lib\\http\\client.py\u001b[0m in \u001b[0;36mbegin\u001b[1;34m(self)\u001b[0m\n\u001b[0;32m    305\u001b[0m         \u001b[1;31m# read until we get a non-100 response\u001b[0m\u001b[1;33m\u001b[0m\u001b[1;33m\u001b[0m\u001b[1;33m\u001b[0m\u001b[0m\n\u001b[0;32m    306\u001b[0m         \u001b[1;32mwhile\u001b[0m \u001b[1;32mTrue\u001b[0m\u001b[1;33m:\u001b[0m\u001b[1;33m\u001b[0m\u001b[1;33m\u001b[0m\u001b[0m\n\u001b[1;32m--> 307\u001b[1;33m             \u001b[0mversion\u001b[0m\u001b[1;33m,\u001b[0m \u001b[0mstatus\u001b[0m\u001b[1;33m,\u001b[0m \u001b[0mreason\u001b[0m \u001b[1;33m=\u001b[0m \u001b[0mself\u001b[0m\u001b[1;33m.\u001b[0m\u001b[0m_read_status\u001b[0m\u001b[1;33m(\u001b[0m\u001b[1;33m)\u001b[0m\u001b[1;33m\u001b[0m\u001b[1;33m\u001b[0m\u001b[0m\n\u001b[0m\u001b[0;32m    308\u001b[0m             \u001b[1;32mif\u001b[0m \u001b[0mstatus\u001b[0m \u001b[1;33m!=\u001b[0m \u001b[0mCONTINUE\u001b[0m\u001b[1;33m:\u001b[0m\u001b[1;33m\u001b[0m\u001b[1;33m\u001b[0m\u001b[0m\n\u001b[0;32m    309\u001b[0m                 \u001b[1;32mbreak\u001b[0m\u001b[1;33m\u001b[0m\u001b[1;33m\u001b[0m\u001b[0m\n",
      "\u001b[1;32m~\\Anaconda3\\envs\\PythonData\\lib\\http\\client.py\u001b[0m in \u001b[0;36m_read_status\u001b[1;34m(self)\u001b[0m\n\u001b[0;32m    266\u001b[0m \u001b[1;33m\u001b[0m\u001b[0m\n\u001b[0;32m    267\u001b[0m     \u001b[1;32mdef\u001b[0m \u001b[0m_read_status\u001b[0m\u001b[1;33m(\u001b[0m\u001b[0mself\u001b[0m\u001b[1;33m)\u001b[0m\u001b[1;33m:\u001b[0m\u001b[1;33m\u001b[0m\u001b[1;33m\u001b[0m\u001b[0m\n\u001b[1;32m--> 268\u001b[1;33m         \u001b[0mline\u001b[0m \u001b[1;33m=\u001b[0m \u001b[0mstr\u001b[0m\u001b[1;33m(\u001b[0m\u001b[0mself\u001b[0m\u001b[1;33m.\u001b[0m\u001b[0mfp\u001b[0m\u001b[1;33m.\u001b[0m\u001b[0mreadline\u001b[0m\u001b[1;33m(\u001b[0m\u001b[0m_MAXLINE\u001b[0m \u001b[1;33m+\u001b[0m \u001b[1;36m1\u001b[0m\u001b[1;33m)\u001b[0m\u001b[1;33m,\u001b[0m \u001b[1;34m\"iso-8859-1\"\u001b[0m\u001b[1;33m)\u001b[0m\u001b[1;33m\u001b[0m\u001b[1;33m\u001b[0m\u001b[0m\n\u001b[0m\u001b[0;32m    269\u001b[0m         \u001b[1;32mif\u001b[0m \u001b[0mlen\u001b[0m\u001b[1;33m(\u001b[0m\u001b[0mline\u001b[0m\u001b[1;33m)\u001b[0m \u001b[1;33m>\u001b[0m \u001b[0m_MAXLINE\u001b[0m\u001b[1;33m:\u001b[0m\u001b[1;33m\u001b[0m\u001b[1;33m\u001b[0m\u001b[0m\n\u001b[0;32m    270\u001b[0m             \u001b[1;32mraise\u001b[0m \u001b[0mLineTooLong\u001b[0m\u001b[1;33m(\u001b[0m\u001b[1;34m\"status line\"\u001b[0m\u001b[1;33m)\u001b[0m\u001b[1;33m\u001b[0m\u001b[1;33m\u001b[0m\u001b[0m\n",
      "\u001b[1;32m~\\Anaconda3\\envs\\PythonData\\lib\\socket.py\u001b[0m in \u001b[0;36mreadinto\u001b[1;34m(self, b)\u001b[0m\n\u001b[0;32m    584\u001b[0m         \u001b[1;32mwhile\u001b[0m \u001b[1;32mTrue\u001b[0m\u001b[1;33m:\u001b[0m\u001b[1;33m\u001b[0m\u001b[1;33m\u001b[0m\u001b[0m\n\u001b[0;32m    585\u001b[0m             \u001b[1;32mtry\u001b[0m\u001b[1;33m:\u001b[0m\u001b[1;33m\u001b[0m\u001b[1;33m\u001b[0m\u001b[0m\n\u001b[1;32m--> 586\u001b[1;33m                 \u001b[1;32mreturn\u001b[0m \u001b[0mself\u001b[0m\u001b[1;33m.\u001b[0m\u001b[0m_sock\u001b[0m\u001b[1;33m.\u001b[0m\u001b[0mrecv_into\u001b[0m\u001b[1;33m(\u001b[0m\u001b[0mb\u001b[0m\u001b[1;33m)\u001b[0m\u001b[1;33m\u001b[0m\u001b[1;33m\u001b[0m\u001b[0m\n\u001b[0m\u001b[0;32m    587\u001b[0m             \u001b[1;32mexcept\u001b[0m \u001b[0mtimeout\u001b[0m\u001b[1;33m:\u001b[0m\u001b[1;33m\u001b[0m\u001b[1;33m\u001b[0m\u001b[0m\n\u001b[0;32m    588\u001b[0m                 \u001b[0mself\u001b[0m\u001b[1;33m.\u001b[0m\u001b[0m_timeout_occurred\u001b[0m \u001b[1;33m=\u001b[0m \u001b[1;32mTrue\u001b[0m\u001b[1;33m\u001b[0m\u001b[1;33m\u001b[0m\u001b[0m\n",
      "\u001b[1;32m~\\Anaconda3\\envs\\PythonData\\lib\\site-packages\\urllib3\\contrib\\pyopenssl.py\u001b[0m in \u001b[0;36mrecv_into\u001b[1;34m(self, *args, **kwargs)\u001b[0m\n\u001b[0;32m    311\u001b[0m     \u001b[1;32mdef\u001b[0m \u001b[0mrecv_into\u001b[0m\u001b[1;33m(\u001b[0m\u001b[0mself\u001b[0m\u001b[1;33m,\u001b[0m \u001b[1;33m*\u001b[0m\u001b[0margs\u001b[0m\u001b[1;33m,\u001b[0m \u001b[1;33m**\u001b[0m\u001b[0mkwargs\u001b[0m\u001b[1;33m)\u001b[0m\u001b[1;33m:\u001b[0m\u001b[1;33m\u001b[0m\u001b[1;33m\u001b[0m\u001b[0m\n\u001b[0;32m    312\u001b[0m         \u001b[1;32mtry\u001b[0m\u001b[1;33m:\u001b[0m\u001b[1;33m\u001b[0m\u001b[1;33m\u001b[0m\u001b[0m\n\u001b[1;32m--> 313\u001b[1;33m             \u001b[1;32mreturn\u001b[0m \u001b[0mself\u001b[0m\u001b[1;33m.\u001b[0m\u001b[0mconnection\u001b[0m\u001b[1;33m.\u001b[0m\u001b[0mrecv_into\u001b[0m\u001b[1;33m(\u001b[0m\u001b[1;33m*\u001b[0m\u001b[0margs\u001b[0m\u001b[1;33m,\u001b[0m \u001b[1;33m**\u001b[0m\u001b[0mkwargs\u001b[0m\u001b[1;33m)\u001b[0m\u001b[1;33m\u001b[0m\u001b[1;33m\u001b[0m\u001b[0m\n\u001b[0m\u001b[0;32m    314\u001b[0m         \u001b[1;32mexcept\u001b[0m \u001b[0mOpenSSL\u001b[0m\u001b[1;33m.\u001b[0m\u001b[0mSSL\u001b[0m\u001b[1;33m.\u001b[0m\u001b[0mSysCallError\u001b[0m \u001b[1;32mas\u001b[0m \u001b[0me\u001b[0m\u001b[1;33m:\u001b[0m\u001b[1;33m\u001b[0m\u001b[1;33m\u001b[0m\u001b[0m\n\u001b[0;32m    315\u001b[0m             \u001b[1;32mif\u001b[0m \u001b[0mself\u001b[0m\u001b[1;33m.\u001b[0m\u001b[0msuppress_ragged_eofs\u001b[0m \u001b[1;32mand\u001b[0m \u001b[0me\u001b[0m\u001b[1;33m.\u001b[0m\u001b[0margs\u001b[0m \u001b[1;33m==\u001b[0m \u001b[1;33m(\u001b[0m\u001b[1;33m-\u001b[0m\u001b[1;36m1\u001b[0m\u001b[1;33m,\u001b[0m \u001b[1;34m\"Unexpected EOF\"\u001b[0m\u001b[1;33m)\u001b[0m\u001b[1;33m:\u001b[0m\u001b[1;33m\u001b[0m\u001b[1;33m\u001b[0m\u001b[0m\n",
      "\u001b[1;32m~\\Anaconda3\\envs\\PythonData\\lib\\site-packages\\OpenSSL\\SSL.py\u001b[0m in \u001b[0;36mrecv_into\u001b[1;34m(self, buffer, nbytes, flags)\u001b[0m\n\u001b[0;32m   1837\u001b[0m             \u001b[0mresult\u001b[0m \u001b[1;33m=\u001b[0m \u001b[0m_lib\u001b[0m\u001b[1;33m.\u001b[0m\u001b[0mSSL_peek\u001b[0m\u001b[1;33m(\u001b[0m\u001b[0mself\u001b[0m\u001b[1;33m.\u001b[0m\u001b[0m_ssl\u001b[0m\u001b[1;33m,\u001b[0m \u001b[0mbuf\u001b[0m\u001b[1;33m,\u001b[0m \u001b[0mnbytes\u001b[0m\u001b[1;33m)\u001b[0m\u001b[1;33m\u001b[0m\u001b[1;33m\u001b[0m\u001b[0m\n\u001b[0;32m   1838\u001b[0m         \u001b[1;32melse\u001b[0m\u001b[1;33m:\u001b[0m\u001b[1;33m\u001b[0m\u001b[1;33m\u001b[0m\u001b[0m\n\u001b[1;32m-> 1839\u001b[1;33m             \u001b[0mresult\u001b[0m \u001b[1;33m=\u001b[0m \u001b[0m_lib\u001b[0m\u001b[1;33m.\u001b[0m\u001b[0mSSL_read\u001b[0m\u001b[1;33m(\u001b[0m\u001b[0mself\u001b[0m\u001b[1;33m.\u001b[0m\u001b[0m_ssl\u001b[0m\u001b[1;33m,\u001b[0m \u001b[0mbuf\u001b[0m\u001b[1;33m,\u001b[0m \u001b[0mnbytes\u001b[0m\u001b[1;33m)\u001b[0m\u001b[1;33m\u001b[0m\u001b[1;33m\u001b[0m\u001b[0m\n\u001b[0m\u001b[0;32m   1840\u001b[0m         \u001b[0mself\u001b[0m\u001b[1;33m.\u001b[0m\u001b[0m_raise_ssl_error\u001b[0m\u001b[1;33m(\u001b[0m\u001b[0mself\u001b[0m\u001b[1;33m.\u001b[0m\u001b[0m_ssl\u001b[0m\u001b[1;33m,\u001b[0m \u001b[0mresult\u001b[0m\u001b[1;33m)\u001b[0m\u001b[1;33m\u001b[0m\u001b[1;33m\u001b[0m\u001b[0m\n\u001b[0;32m   1841\u001b[0m \u001b[1;33m\u001b[0m\u001b[0m\n",
      "\u001b[1;31mKeyboardInterrupt\u001b[0m: "
     ]
    }
   ],
   "source": [
    "fullList = {}\n",
    "# fullList_df = pd.DataFrame()\n",
    "\n",
    "for id in range(1,4):\n",
    "    response = requests.get(base_url + str(id)).json()\n",
    "    print(response)\n",
    "    print(id)\n",
    "    \n",
    "    # Printing to a DataFrame was ugly\n",
    "    #response_df = pd.DataFrame(response)\n",
    "    #fullList_df = fullList_df.append(response_df)\n",
    "    \n",
    "    fullList[id] = response\n",
    "    \n",
    "fullList"
   ]
  },
  {
   "cell_type": "code",
   "execution_count": 14,
   "metadata": {},
   "outputs": [
    {
     "data": {
      "text/plain": [
       "44.09950248756219"
      ]
     },
     "execution_count": 14,
     "metadata": {},
     "output_type": "execute_result"
    }
   ],
   "source": [
    "# fullList[id]\n",
    "# mean powerstats\n",
    "\n",
    "norm = polling_df.mean().sum()\n",
    "\n",
    "intel = int(fullList[26][\"powerstats\"][\"intelligence\"])*polling_df[\"Intelligence\"].mean()\n",
    "stren = int(fullList[26][\"powerstats\"][\"strength\"])*polling_df[\"Strength\"].mean()\n",
    "speed = int(fullList[26][\"powerstats\"][\"speed\"])*polling_df[\"Speed\"].mean()\n",
    "durab = int(fullList[26][\"powerstats\"][\"durability\"])*polling_df[\"Durability\"].mean()\n",
    "power = int(fullList[26][\"powerstats\"][\"power\"])*polling_df[\"Power (Non-physical)\"].mean()\n",
    "comba = int(fullList[26][\"powerstats\"][\"combat\"])*polling_df[\"Combat\"].mean()\n",
    "\n",
    "\n",
    "avgStats = (intel + stren +speed + durab +power + comba)/norm\n",
    "avgStats"
   ]
  },
  {
   "cell_type": "code",
   "execution_count": 13,
   "metadata": {},
   "outputs": [
    {
     "data": {
      "text/plain": [
       "Intelligence            4.333333\n",
       "Combat                  3.333333\n",
       "Speed                   3.666667\n",
       "Durability              3.555556\n",
       "Strength                3.555556\n",
       "Power (Non-physical)    3.888889\n",
       "dtype: float64"
      ]
     },
     "execution_count": 13,
     "metadata": {},
     "output_type": "execute_result"
    }
   ],
   "source": [
    "polling_df.mean()"
   ]
  },
  {
   "cell_type": "code",
   "execution_count": null,
   "metadata": {},
   "outputs": [],
   "source": [
    "# Worst super heroes in each catergory"
   ]
  }
 ],
 "metadata": {
  "kernelspec": {
   "display_name": "Python 3",
   "language": "python",
   "name": "python3"
  },
  "language_info": {
   "codemirror_mode": {
    "name": "ipython",
    "version": 3
   },
   "file_extension": ".py",
   "mimetype": "text/x-python",
   "name": "python",
   "nbconvert_exporter": "python",
   "pygments_lexer": "ipython3",
   "version": "3.6.10"
  }
 },
 "nbformat": 4,
 "nbformat_minor": 4
}
