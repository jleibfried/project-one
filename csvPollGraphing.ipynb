{
 "cells": [
  {
   "cell_type": "code",
   "execution_count": 1,
   "metadata": {},
   "outputs": [],
   "source": [
    "import matplotlib.pyplot as plt\n",
    "import pandas as pd\n",
    "import numpy as np\n",
    "import requests\n",
    "import os\n",
    "\n",
    "from api_keys import api_key"
   ]
  },
  {
   "cell_type": "code",
   "execution_count": 2,
   "metadata": {},
   "outputs": [
    {
     "data": {
      "text/html": [
       "<div>\n",
       "<style scoped>\n",
       "    .dataframe tbody tr th:only-of-type {\n",
       "        vertical-align: middle;\n",
       "    }\n",
       "\n",
       "    .dataframe tbody tr th {\n",
       "        vertical-align: top;\n",
       "    }\n",
       "\n",
       "    .dataframe thead th {\n",
       "        text-align: right;\n",
       "    }\n",
       "</style>\n",
       "<table border=\"1\" class=\"dataframe\">\n",
       "  <thead>\n",
       "    <tr style=\"text-align: right;\">\n",
       "      <th></th>\n",
       "      <th>Timestamp</th>\n",
       "      <th>Intelligence</th>\n",
       "      <th>Combat</th>\n",
       "      <th>Speed</th>\n",
       "      <th>Durability</th>\n",
       "      <th>Strength</th>\n",
       "      <th>Power (Non-physical)</th>\n",
       "    </tr>\n",
       "  </thead>\n",
       "  <tbody>\n",
       "    <tr>\n",
       "      <th>0</th>\n",
       "      <td>2020/04/13 9:37:21 PM EST</td>\n",
       "      <td>4</td>\n",
       "      <td>5.0</td>\n",
       "      <td>5</td>\n",
       "      <td>4</td>\n",
       "      <td>5</td>\n",
       "      <td>5</td>\n",
       "    </tr>\n",
       "    <tr>\n",
       "      <th>1</th>\n",
       "      <td>2020/04/13 9:37:21 PM EST</td>\n",
       "      <td>5</td>\n",
       "      <td>5.0</td>\n",
       "      <td>5</td>\n",
       "      <td>3</td>\n",
       "      <td>4</td>\n",
       "      <td>5</td>\n",
       "    </tr>\n",
       "    <tr>\n",
       "      <th>2</th>\n",
       "      <td>2020/04/13 9:40:53 PM EST</td>\n",
       "      <td>5</td>\n",
       "      <td>2.0</td>\n",
       "      <td>4</td>\n",
       "      <td>2</td>\n",
       "      <td>2</td>\n",
       "      <td>4</td>\n",
       "    </tr>\n",
       "    <tr>\n",
       "      <th>3</th>\n",
       "      <td>2020/04/13 9:44:04 PM EST</td>\n",
       "      <td>5</td>\n",
       "      <td>4.0</td>\n",
       "      <td>3</td>\n",
       "      <td>5</td>\n",
       "      <td>4</td>\n",
       "      <td>5</td>\n",
       "    </tr>\n",
       "    <tr>\n",
       "      <th>4</th>\n",
       "      <td>2020/04/14 12:25:25 PM EST</td>\n",
       "      <td>4</td>\n",
       "      <td>4.0</td>\n",
       "      <td>5</td>\n",
       "      <td>2</td>\n",
       "      <td>2</td>\n",
       "      <td>1</td>\n",
       "    </tr>\n",
       "    <tr>\n",
       "      <th>5</th>\n",
       "      <td>2020/04/14 1:16:48 PM EST</td>\n",
       "      <td>5</td>\n",
       "      <td>3.0</td>\n",
       "      <td>3</td>\n",
       "      <td>3</td>\n",
       "      <td>4</td>\n",
       "      <td>5</td>\n",
       "    </tr>\n",
       "    <tr>\n",
       "      <th>6</th>\n",
       "      <td>2020/04/14 2:39:13 PM EST</td>\n",
       "      <td>3</td>\n",
       "      <td>1.0</td>\n",
       "      <td>5</td>\n",
       "      <td>5</td>\n",
       "      <td>4</td>\n",
       "      <td>2</td>\n",
       "    </tr>\n",
       "    <tr>\n",
       "      <th>7</th>\n",
       "      <td>2020/04/14 6:03:35 PM EST</td>\n",
       "      <td>4</td>\n",
       "      <td>3.0</td>\n",
       "      <td>1</td>\n",
       "      <td>4</td>\n",
       "      <td>3</td>\n",
       "      <td>3</td>\n",
       "    </tr>\n",
       "    <tr>\n",
       "      <th>8</th>\n",
       "      <td>2020/04/14 8:09:11 PM EST</td>\n",
       "      <td>4</td>\n",
       "      <td>3.0</td>\n",
       "      <td>2</td>\n",
       "      <td>4</td>\n",
       "      <td>4</td>\n",
       "      <td>5</td>\n",
       "    </tr>\n",
       "  </tbody>\n",
       "</table>\n",
       "</div>"
      ],
      "text/plain": [
       "                    Timestamp  Intelligence  Combat  Speed  Durability  \\\n",
       "0   2020/04/13 9:37:21 PM EST             4     5.0      5           4   \n",
       "1   2020/04/13 9:37:21 PM EST             5     5.0      5           3   \n",
       "2   2020/04/13 9:40:53 PM EST             5     2.0      4           2   \n",
       "3   2020/04/13 9:44:04 PM EST             5     4.0      3           5   \n",
       "4  2020/04/14 12:25:25 PM EST             4     4.0      5           2   \n",
       "5   2020/04/14 1:16:48 PM EST             5     3.0      3           3   \n",
       "6   2020/04/14 2:39:13 PM EST             3     1.0      5           5   \n",
       "7   2020/04/14 6:03:35 PM EST             4     3.0      1           4   \n",
       "8   2020/04/14 8:09:11 PM EST             4     3.0      2           4   \n",
       "\n",
       "   Strength  Power (Non-physical)  \n",
       "0         5                     5  \n",
       "1         4                     5  \n",
       "2         2                     4  \n",
       "3         4                     5  \n",
       "4         2                     1  \n",
       "5         4                     5  \n",
       "6         4                     2  \n",
       "7         3                     3  \n",
       "8         4                     5  "
      ]
     },
     "execution_count": 2,
     "metadata": {},
     "output_type": "execute_result"
    }
   ],
   "source": [
    "polling_df  = pd.read_csv(\"classResponse.csv\")\n",
    "\n",
    "polling_df.drop(columns=\"Unnamed: 7\", index=0, inplace=True)\n",
    "polling_df.reset_index(drop=True,inplace=True)\n",
    "polling_df"
   ]
  },
  {
   "cell_type": "code",
   "execution_count": 3,
   "metadata": {},
   "outputs": [],
   "source": [
    "base_url = \"https://www.superheroapi.com/api.php/\"+api_key+\"/\"\n",
    "\n"
   ]
  },
  {
   "cell_type": "code",
   "execution_count": 4,
   "metadata": {},
   "outputs": [],
   "source": [
    "# This is meaningless but cool\n",
    "#polling_df[[\"Intelligence\",\"Combat\",\"Speed\",\"Durability\",\"Strength\",\"Power (Non-physical)\"]].plot(kind=\"bar\")\n",
    "#plt.xlabel(\"Attributes\")\n",
    "#plt.ylabel(\"Score\")"
   ]
  },
  {
   "cell_type": "code",
   "execution_count": 5,
   "metadata": {},
   "outputs": [
    {
     "data": {
      "text/plain": [
       "Text(0.5, 1.0, 'Class Poll')"
      ]
     },
     "execution_count": 5,
     "metadata": {},
     "output_type": "execute_result"
    },
    {
     "data": {
      "image/png": "[encoded data removed]",
      "text/plain": [
       "<Figure size 432x288 with 1 Axes>"
      ]
     },
     "metadata": {
      "needs_background": "light"
     },
     "output_type": "display_data"
    }
   ],
   "source": [
    "polling_df.mean().plot(kind=\"bar\", rot=33)\n",
    "plt.xlabel(\"Attributes\")\n",
    "plt.ylabel(\"Weight\")\n",
    "plt.title(\"Class Poll\")"
   ]
  },
  {
   "cell_type": "code",
   "execution_count": 19,
   "metadata": {},
   "outputs": [
    {
     "name": "stdout",
     "output_type": "stream",
     "text": [
      "{'response': 'success', 'id': '1', 'name': 'A-Bomb', 'powerstats': {'intelligence': '38', 'strength': '100', 'speed': '17', 'durability': '80', 'power': '24', 'combat': '64'}, 'biography': {'full-name': 'Richard Milhouse Jones', 'alter-egos': 'No alter egos found.', 'aliases': ['Rick Jones'], 'place-of-birth': 'Scarsdale, Arizona', 'first-appearance': 'Hulk Vol 2 #2 (April, 2008) (as A-Bomb)', 'publisher': 'Marvel Comics', 'alignment': 'good'}, 'appearance': {'gender': 'Male', 'race': 'Human', 'height': [\"6'8\", '203 cm'], 'weight': ['980 lb', '441 kg'], 'eye-color': 'Yellow', 'hair-color': 'No Hair'}, 'work': {'occupation': 'Musician, adventurer, author; formerly talk show host', 'base': '-'}, 'connections': {'group-affiliation': 'Hulk Family; Excelsior (sponsor), Avengers (honorary member); formerly partner of the Hulk, Captain America and Captain Marvel; Teen Brigade; ally of Rom', 'relatives': 'Marlo Chandler-Jones (wife); Polly (aunt); Mrs. Chandler (mother-in-law); Keith Chandler, Ray Chandler, three unidentified others (brothers-in-law); unidentified father (deceased); Jackie Shorr (alleged mother; unconfirmed)'}, 'image': {'url': 'https://www.superherodb.com/pictures2/portraits/10/100/10060.jpg'}}\n",
      "1\n",
      "{'response': 'success', 'id': '2', 'name': 'Abe Sapien', 'powerstats': {'intelligence': '88', 'strength': '28', 'speed': '35', 'durability': '65', 'power': '100', 'combat': '85'}, 'biography': {'full-name': 'Abraham Sapien', 'alter-egos': 'No alter egos found.', 'aliases': ['Langdon Everett Caul', 'Abraham Sapien', 'Langdon Caul'], 'place-of-birth': '-', 'first-appearance': 'Hellboy: Seed of Destruction (1993)', 'publisher': 'Dark Horse Comics', 'alignment': 'good'}, 'appearance': {'gender': 'Male', 'race': 'Icthyo Sapien', 'height': [\"6'3\", '191 cm'], 'weight': ['145 lb', '65 kg'], 'eye-color': 'Blue', 'hair-color': 'No Hair'}, 'work': {'occupation': 'Paranormal Investigator', 'base': '-'}, 'connections': {'group-affiliation': 'Bureau for Paranormal Research and Defense', 'relatives': 'Edith Howard (wife, deceased)'}, 'image': {'url': 'https://www.superherodb.com/pictures2/portraits/10/100/956.jpg'}}\n",
      "2\n",
      "{'response': 'success', 'id': '3', 'name': 'Abin Sur', 'powerstats': {'intelligence': '50', 'strength': '90', 'speed': '53', 'durability': '64', 'power': '99', 'combat': '65'}, 'biography': {'full-name': '', 'alter-egos': 'No alter egos found.', 'aliases': ['Lagzia'], 'place-of-birth': 'Ungara', 'first-appearance': 'Showcase #22 (October, 1959)', 'publisher': 'DC Comics', 'alignment': 'good'}, 'appearance': {'gender': 'Male', 'race': 'Ungaran', 'height': [\"6'1\", '185 cm'], 'weight': ['200 lb', '90 kg'], 'eye-color': 'Blue', 'hair-color': 'No Hair'}, 'work': {'occupation': 'Green Lantern, former history professor', 'base': 'Oa'}, 'connections': {'group-affiliation': 'Green Lantern Corps, Black Lantern Corps', 'relatives': 'Amon Sur (son), Arin Sur (sister), Thaal Sinestro (brother-in-law), Soranik Natu (niece)'}, 'image': {'url': 'https://www.superherodb.com/pictures2/portraits/10/100/1460.jpg'}}\n",
      "3\n"
     ]
    },
    {
     "data": {
      "text/plain": [
       "{1: {'response': 'success',\n",
       "  'id': '1',\n",
       "  'name': 'A-Bomb',\n",
       "  'powerstats': {'intelligence': '38',\n",
       "   'strength': '100',\n",
       "   'speed': '17',\n",
       "   'durability': '80',\n",
       "   'power': '24',\n",
       "   'combat': '64'},\n",
       "  'biography': {'full-name': 'Richard Milhouse Jones',\n",
       "   'alter-egos': 'No alter egos found.',\n",
       "   'aliases': ['Rick Jones'],\n",
       "   'place-of-birth': 'Scarsdale, Arizona',\n",
       "   'first-appearance': 'Hulk Vol 2 #2 (April, 2008) (as A-Bomb)',\n",
       "   'publisher': 'Marvel Comics',\n",
       "   'alignment': 'good'},\n",
       "  'appearance': {'gender': 'Male',\n",
       "   'race': 'Human',\n",
       "   'height': [\"6'8\", '203 cm'],\n",
       "   'weight': ['980 lb', '441 kg'],\n",
       "   'eye-color': 'Yellow',\n",
       "   'hair-color': 'No Hair'},\n",
       "  'work': {'occupation': 'Musician, adventurer, author; formerly talk show host',\n",
       "   'base': '-'},\n",
       "  'connections': {'group-affiliation': 'Hulk Family; Excelsior (sponsor), Avengers (honorary member); formerly partner of the Hulk, Captain America and Captain Marvel; Teen Brigade; ally of Rom',\n",
       "   'relatives': 'Marlo Chandler-Jones (wife); Polly (aunt); Mrs. Chandler (mother-in-law); Keith Chandler, Ray Chandler, three unidentified others (brothers-in-law); unidentified father (deceased); Jackie Shorr (alleged mother; unconfirmed)'},\n",
       "  'image': {'url': 'https://www.superherodb.com/pictures2/portraits/10/100/10060.jpg'}},\n",
       " 2: {'response': 'success',\n",
       "  'id': '2',\n",
       "  'name': 'Abe Sapien',\n",
       "  'powerstats': {'intelligence': '88',\n",
       "   'strength': '28',\n",
       "   'speed': '35',\n",
       "   'durability': '65',\n",
       "   'power': '100',\n",
       "   'combat': '85'},\n",
       "  'biography': {'full-name': 'Abraham Sapien',\n",
       "   'alter-egos': 'No alter egos found.',\n",
       "   'aliases': ['Langdon Everett Caul', 'Abraham Sapien', 'Langdon Caul'],\n",
       "   'place-of-birth': '-',\n",
       "   'first-appearance': 'Hellboy: Seed of Destruction (1993)',\n",
       "   'publisher': 'Dark Horse Comics',\n",
       "   'alignment': 'good'},\n",
       "  'appearance': {'gender': 'Male',\n",
       "   'race': 'Icthyo Sapien',\n",
       "   'height': [\"6'3\", '191 cm'],\n",
       "   'weight': ['145 lb', '65 kg'],\n",
       "   'eye-color': 'Blue',\n",
       "   'hair-color': 'No Hair'},\n",
       "  'work': {'occupation': 'Paranormal Investigator', 'base': '-'},\n",
       "  'connections': {'group-affiliation': 'Bureau for Paranormal Research and Defense',\n",
       "   'relatives': 'Edith Howard (wife, deceased)'},\n",
       "  'image': {'url': 'https://www.superherodb.com/pictures2/portraits/10/100/956.jpg'}},\n",
       " 3: {'response': 'success',\n",
       "  'id': '3',\n",
       "  'name': 'Abin Sur',\n",
       "  'powerstats': {'intelligence': '50',\n",
       "   'strength': '90',\n",
       "   'speed': '53',\n",
       "   'durability': '64',\n",
       "   'power': '99',\n",
       "   'combat': '65'},\n",
       "  'biography': {'full-name': '',\n",
       "   'alter-egos': 'No alter egos found.',\n",
       "   'aliases': ['Lagzia'],\n",
       "   'place-of-birth': 'Ungara',\n",
       "   'first-appearance': 'Showcase #22 (October, 1959)',\n",
       "   'publisher': 'DC Comics',\n",
       "   'alignment': 'good'},\n",
       "  'appearance': {'gender': 'Male',\n",
       "   'race': 'Ungaran',\n",
       "   'height': [\"6'1\", '185 cm'],\n",
       "   'weight': ['200 lb', '90 kg'],\n",
       "   'eye-color': 'Blue',\n",
       "   'hair-color': 'No Hair'},\n",
       "  'work': {'occupation': 'Green Lantern, former history professor',\n",
       "   'base': 'Oa'},\n",
       "  'connections': {'group-affiliation': 'Green Lantern Corps, Black Lantern Corps',\n",
       "   'relatives': 'Amon Sur (son), Arin Sur (sister), Thaal Sinestro (brother-in-law), Soranik Natu (niece)'},\n",
       "  'image': {'url': 'https://www.superherodb.com/pictures2/portraits/10/100/1460.jpg'}}}"
      ]
     },
     "execution_count": 19,
     "metadata": {},
     "output_type": "execute_result"
    }
   ],
   "source": [
    "fullList = {}\n",
    "# fullList_df = pd.DataFrame()\n",
    "\n",
    "for id in range(1,732):\n",
    "    response = requests.get(base_url + str(id)).json()\n",
    "    print(response)\n",
    "    print(id)\n",
    "    \n",
    "    # Printing to a DataFrame was ugly\n",
    "    #response_df = pd.DataFrame(response)\n",
    "    #fullList_df = fullList_df.append(response_df)\n",
    "    \n",
    "    fullList[id] = response\n",
    "    \n",
    "fullList"
   ]
  },
  {
   "cell_type": "code",
   "execution_count": 22,
   "metadata": {},
   "outputs": [
    {
     "data": {
      "text/plain": [
       "53.833333333333336"
      ]
     },
     "execution_count": 22,
     "metadata": {},
     "output_type": "execute_result"
    }
   ],
   "source": [
    "# fullList[id]\n",
    "# mean powerstats\n",
    "\n",
    "intel = int(fullList[1][\"powerstats\"][\"intelligence\"])\n",
    "stren = int(fullList[1][\"powerstats\"][\"strength\"])\n",
    "speed = int(fullList[1][\"powerstats\"][\"speed\"])\n",
    "durab = int(fullList[1][\"powerstats\"][\"durability\"])\n",
    "power = int(fullList[1][\"powerstats\"][\"power\"])\n",
    "comba = int(fullList[1][\"powerstats\"][\"combat\"])\n",
    "\n",
    "avgStats = (intel + stren +speed + durab +power + comba)/6\n",
    "avgStats"
   ]
  },
  {
   "cell_type": "code",
   "execution_count": 6,
   "metadata": {},
   "outputs": [
    {
     "ename": "SyntaxError",
     "evalue": "invalid syntax (<ipython-input-6-d0012678aa92>, line 1)",
     "output_type": "error",
     "traceback": [
      "\u001b[1;36m  File \u001b[1;32m\"<ipython-input-6-d0012678aa92>\"\u001b[1;36m, line \u001b[1;32m1\u001b[0m\n\u001b[1;33m    powerStat_df =\u001b[0m\n\u001b[1;37m                   ^\u001b[0m\n\u001b[1;31mSyntaxError\u001b[0m\u001b[1;31m:\u001b[0m invalid syntax\n"
     ]
    }
   ],
   "source": []
  }
 ],
 "metadata": {
  "kernelspec": {
   "display_name": "Python 3",
   "language": "python",
   "name": "python3"
  },
  "language_info": {
   "codemirror_mode": {
    "name": "ipython",
    "version": 3
   },
   "file_extension": ".py",
   "mimetype": "text/x-python",
   "name": "python",
   "nbconvert_exporter": "python",
   "pygments_lexer": "ipython3",
   "version": "3.6.10"
  }
 },
 "nbformat": 4,
 "nbformat_minor": 4
}
